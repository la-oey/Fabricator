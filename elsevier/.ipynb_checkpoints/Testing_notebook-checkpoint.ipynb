{
 "cells": [
  {
   "cell_type": "code",
   "execution_count": 3,
   "metadata": {},
   "outputs": [
    {
     "data": {
      "text/plain": [
       "['2017',\n",
       " '2016',\n",
       " '2015',\n",
       " '2014',\n",
       " '2013',\n",
       " '2012',\n",
       " '2011',\n",
       " '2010',\n",
       " '2009',\n",
       " '2008',\n",
       " '2007',\n",
       " '2006',\n",
       " '2005',\n",
       " '2004',\n",
       " '2003']"
      ]
     },
     "execution_count": 3,
     "metadata": {},
     "output_type": "execute_result"
    }
   ],
   "source": [
    "[f\"{i:04}\" for i in range(2003, 2018)][::-1]"
   ]
  },
  {
   "cell_type": "code",
   "execution_count": 1,
   "metadata": {},
   "outputs": [],
   "source": [
    "import urllib.request\n",
    "import requests\n",
    "from bs4 import BeautifulSoup\n",
    "import pandas as pd"
   ]
  },
  {
   "cell_type": "code",
   "execution_count": 14,
   "metadata": {},
   "outputs": [
    {
     "name": "stdout",
     "output_type": "stream",
     "text": [
      "Access-Control-Allow-Origin: *\n",
      "Access-Control-Allow-Headers: X-Requested-With, Accept, Accept-Encoding, Accept-Charset, Accept-Language, Accept-Ranges, Cache-Control\n",
      "Access-Control-Expose-Headers: Link\n",
      "Link: <http://dx.doi.org/10.1111/j.1467-9280.2005.01656.x>; rel=\"canonical\"\n",
      "Content-Type: application/vnd.crossref.unixsd+xml\n",
      "Content-Length: 7013\n",
      "Server: http-kit\n",
      "Date: Tue, 15 Oct 2019 04:21:10 GMT\n",
      "X-Rate-Limit-Limit: 50\n",
      "X-Rate-Limit-Interval: 1s\n",
      "Connection: close\n",
      "\n",
      "\n"
     ]
    }
   ],
   "source": [
    "opener = urllib.request.build_opener()\n",
    "opener.addheaders = [('Accept', 'application/vnd.crossref.unixsd+xml')]\n",
    "r = opener.open('https://doi.org/10.1111/j.1467-9280.2005.01656.x')\n",
    "print(r.info()) # ['Link']"
   ]
  },
  {
   "cell_type": "code",
   "execution_count": 3,
   "metadata": {},
   "outputs": [
    {
     "data": {
      "text/plain": [
       "'<http://dx.doi.org/10.1111/j.0956-7976.2004.00655.x>; rel=\"canonical\"'"
      ]
     },
     "execution_count": 3,
     "metadata": {},
     "output_type": "execute_result"
    }
   ],
   "source": [
    "r.info()['Link']"
   ]
  },
  {
   "cell_type": "code",
   "execution_count": 7,
   "metadata": {},
   "outputs": [],
   "source": [
    "url = 'http://journals.sagepub.com/doi/full-xml/10.1111/j.1467-9280.2005.00812.x'\n",
    "response = requests.get(url)\n",
    "response.text\n",
    "\n",
    "if response:\n",
    "    print(\"haha\")"
   ]
  },
  {
   "cell_type": "code",
   "execution_count": 75,
   "metadata": {},
   "outputs": [],
   "source": [
    "soup = BeautifulSoup(response.text, 'html.parser')\n",
    "title = soup.find('title-group').find('article-title').get_text()\n",
    "sub = soup.find('title-group').find('subtitle')\n",
    "sub_title = \"\"\n",
    "if sub:\n",
    "    sub_title = sub.get_text()\n",
    "\n",
    "first = soup.find('contrib-group').findAll('given-names')\n",
    "last = soup.find('contrib-group').findAll('surname')\n",
    "name = [i.text + \" \" + j.text for i, j in zip(first, last)]\n",
    "\n",
    "month = soup.find('pub-date').find('month').get_text()\n",
    "year = soup.find('pub-date').find('year').get_text()\n",
    "date = year + \"/\" + format(int(month), '02d')"
   ]
  },
  {
   "cell_type": "code",
   "execution_count": 76,
   "metadata": {},
   "outputs": [
    {
     "data": {
      "text/plain": [
       "'2006/01'"
      ]
     },
     "execution_count": 76,
     "metadata": {},
     "output_type": "execute_result"
    }
   ],
   "source": [
    "date"
   ]
  },
  {
   "cell_type": "code",
   "execution_count": 5,
   "metadata": {},
   "outputs": [
    {
     "ename": "IndexError",
     "evalue": "list index out of range",
     "output_type": "error",
     "traceback": [
      "\u001b[1;31m---------------------------------------------------------------------------\u001b[0m",
      "\u001b[1;31mIndexError\u001b[0m                                Traceback (most recent call last)",
      "\u001b[1;32m<ipython-input-5-91a66e99a26a>\u001b[0m in \u001b[0;36m<module>\u001b[1;34m\u001b[0m\n\u001b[0;32m      1\u001b[0m \u001b[1;32mimport\u001b[0m \u001b[0mre\u001b[0m\u001b[1;33m\u001b[0m\u001b[1;33m\u001b[0m\u001b[0m\n\u001b[0;32m      2\u001b[0m \u001b[0mtitle_group\u001b[0m \u001b[1;33m=\u001b[0m \u001b[0mre\u001b[0m\u001b[1;33m.\u001b[0m\u001b[0mfindall\u001b[0m\u001b[1;33m(\u001b[0m\u001b[1;34mr'<title-group>.+</title-group>'\u001b[0m\u001b[1;33m,\u001b[0m \u001b[0mresponse\u001b[0m\u001b[1;33m.\u001b[0m\u001b[0mtext\u001b[0m\u001b[1;33m)\u001b[0m\u001b[1;33m\u001b[0m\u001b[1;33m\u001b[0m\u001b[0m\n\u001b[1;32m----> 3\u001b[1;33m \u001b[0mtitle\u001b[0m \u001b[1;33m=\u001b[0m \u001b[0mre\u001b[0m\u001b[1;33m.\u001b[0m\u001b[0msearch\u001b[0m\u001b[1;33m(\u001b[0m\u001b[1;34m'<article-title>.+</article-title>'\u001b[0m\u001b[1;33m,\u001b[0m \u001b[0mtitle_group\u001b[0m\u001b[1;33m[\u001b[0m\u001b[1;36m0\u001b[0m\u001b[1;33m]\u001b[0m\u001b[1;33m)\u001b[0m\u001b[1;33m.\u001b[0m\u001b[0mgroup\u001b[0m\u001b[1;33m(\u001b[0m\u001b[1;36m0\u001b[0m\u001b[1;33m)\u001b[0m\u001b[1;33m[\u001b[0m\u001b[1;36m15\u001b[0m\u001b[1;33m:\u001b[0m\u001b[1;33m-\u001b[0m\u001b[1;36m16\u001b[0m\u001b[1;33m]\u001b[0m\u001b[1;33m\u001b[0m\u001b[1;33m\u001b[0m\u001b[0m\n\u001b[0m\u001b[0;32m      4\u001b[0m \u001b[0msub\u001b[0m \u001b[1;33m=\u001b[0m \u001b[0mre\u001b[0m\u001b[1;33m.\u001b[0m\u001b[0msearch\u001b[0m\u001b[1;33m(\u001b[0m\u001b[1;34m'<subtitle>.+</subtitle>'\u001b[0m\u001b[1;33m,\u001b[0m \u001b[0mtitle_group\u001b[0m\u001b[1;33m[\u001b[0m\u001b[1;36m0\u001b[0m\u001b[1;33m]\u001b[0m\u001b[1;33m)\u001b[0m\u001b[1;33m\u001b[0m\u001b[1;33m\u001b[0m\u001b[0m\n\u001b[0;32m      5\u001b[0m \u001b[0msubtitle\u001b[0m \u001b[1;33m=\u001b[0m \u001b[1;34m\"\"\u001b[0m\u001b[1;33m\u001b[0m\u001b[1;33m\u001b[0m\u001b[0m\n",
      "\u001b[1;31mIndexError\u001b[0m: list index out of range"
     ]
    }
   ],
   "source": [
    "import re\n",
    "title_group = re.findall(r'<title-group>.+</title-group>', response.text)\n",
    "title = re.search('<article-title>.+</article-title>', title_group[0]).group(0)[15:-16]\n",
    "sub = re.search('<subtitle>.+</subtitle>', title_group[0])\n",
    "subtitle = \"\"\n",
    "if sub:\n",
    "    sub_title = sub.group(0)[10:-11]\n",
    "print(title)"
   ]
  },
  {
   "cell_type": "code",
   "execution_count": 16,
   "metadata": {},
   "outputs": [
    {
     "ename": "NameError",
     "evalue": "name 'titles' is not defined",
     "output_type": "error",
     "traceback": [
      "\u001b[1;31m---------------------------------------------------------------------------\u001b[0m",
      "\u001b[1;31mNameError\u001b[0m                                 Traceback (most recent call last)",
      "\u001b[1;32m<ipython-input-16-9276dde310b3>\u001b[0m in \u001b[0;36m<module>\u001b[1;34m\u001b[0m\n\u001b[1;32m----> 1\u001b[1;33m \u001b[0mtitle\u001b[0m \u001b[1;33m=\u001b[0m \u001b[0mtitles\u001b[0m\u001b[1;33m[\u001b[0m\u001b[1;36m0\u001b[0m\u001b[1;33m]\u001b[0m\u001b[1;33m[\u001b[0m\u001b[1;36m15\u001b[0m\u001b[1;33m:\u001b[0m\u001b[1;33m-\u001b[0m\u001b[1;36m16\u001b[0m\u001b[1;33m]\u001b[0m\u001b[1;33m\u001b[0m\u001b[1;33m\u001b[0m\u001b[0m\n\u001b[0m\u001b[0;32m      2\u001b[0m \u001b[0mtitle\u001b[0m\u001b[1;33m\u001b[0m\u001b[1;33m\u001b[0m\u001b[0m\n",
      "\u001b[1;31mNameError\u001b[0m: name 'titles' is not defined"
     ]
    }
   ],
   "source": [
    "title = titles[0][15:-16]\n",
    "title"
   ]
  },
  {
   "cell_type": "code",
   "execution_count": 6,
   "metadata": {},
   "outputs": [],
   "source": [
    "urls_2004 = []\n",
    "dois = [f\"{i:05}\" for i in range(655, 769)]\n",
    "for doi in dois:\n",
    "    urls_2004.append('http://journals.sagepub.com/doi/full-xml/10.1111/j.09567976.2004.' + doi)"
   ]
  },
  {
   "cell_type": "code",
   "execution_count": 26,
   "metadata": {},
   "outputs": [
    {
     "data": {
      "text/plain": [
       "0    http://journals.sagepub.com/doi/full-xml/10.11...\n",
       "Name: doi, dtype: object"
      ]
     },
     "execution_count": 26,
     "metadata": {},
     "output_type": "execute_result"
    }
   ],
   "source": [
    "df = pd.read_csv('Psychological Science/psychScience_2005.csv')\n",
    "df[:1]['doi']"
   ]
  },
  {
   "cell_type": "code",
   "execution_count": null,
   "metadata": {},
   "outputs": [],
   "source": []
  },
  {
   "cell_type": "code",
   "execution_count": null,
   "metadata": {},
   "outputs": [],
   "source": []
  },
  {
   "cell_type": "code",
   "execution_count": null,
   "metadata": {},
   "outputs": [],
   "source": []
  },
  {
   "cell_type": "code",
   "execution_count": null,
   "metadata": {},
   "outputs": [],
   "source": []
  },
  {
   "cell_type": "code",
   "execution_count": null,
   "metadata": {},
   "outputs": [],
   "source": []
  },
  {
   "cell_type": "code",
   "execution_count": null,
   "metadata": {},
   "outputs": [],
   "source": []
  },
  {
   "cell_type": "code",
   "execution_count": null,
   "metadata": {},
   "outputs": [],
   "source": []
  },
  {
   "cell_type": "code",
   "execution_count": 80,
   "metadata": {},
   "outputs": [
    {
     "name": "stderr",
     "output_type": "stream",
     "text": [
      "D:\\Software\\Anaconda\\lib\\site-packages\\ipykernel_launcher.py:31: DeprecationWarning: time.clock has been deprecated in Python 3.3 and will be removed from Python 3.8: use time.perf_counter or time.process_time instead\n"
     ]
    },
    {
     "name": "stdout",
     "output_type": "stream",
     "text": [
      "The execution time is 0.04113656500000313 minutes.\n"
     ]
    },
    {
     "name": "stderr",
     "output_type": "stream",
     "text": [
      "D:\\Software\\Anaconda\\lib\\site-packages\\ipykernel_launcher.py:66: DeprecationWarning: time.clock has been deprecated in Python 3.3 and will be removed from Python 3.8: use time.perf_counter or time.process_time instead\n"
     ]
    }
   ],
   "source": [
    "from bs4 import BeautifulSoup\n",
    "import requests\n",
    "import csv\n",
    "import re\n",
    "import time\n",
    "\n",
    "# creat 2004 urls\n",
    "urls_2004 = []\n",
    "dois = [f\"{i:05}\" for i in range(771, 812)]\n",
    "dois2 = [f\"{i:05}\" for i in range(1524, 1578)]\n",
    "dois3 = [f\"{i:05}\" for i in range(1578, 1654)]\n",
    "dois4 = [f\"{i:05}\" for i in range(1656, 1669)]\n",
    "dois5 = [f\"{i:06}\" for i in range(350000, 400000)]\n",
    "dois_2004 = [f\"{i:05}\" for i in range(655, 657)]\n",
    "\"\"\"\n",
    "for doi in dois:\n",
    "    urls.append('http://journals.sagepub.com/doi/full-xml/10.1111/j.0956-7976.2005.' + doi + '.x')\n",
    "for doi2 in dois2:\n",
    "    urls.append('http://journals.sagepub.com/doi/full-xml/10.1111/j.0956-7976.2005.' + doi2 + '.x')\n",
    "for doi3 in dois3:\n",
    "    urls.append('http://journals.sagepub.com/doi/full-xml/10.1111/j.1467-9280.2005.' + doi3 + '.x')\n",
    "for doi4 in dois4:\n",
    "    urls.append('http://journals.sagepub.com/doi/full-xml/10.1111/j.1467-9280.2005.' + doi4 + '.x')\n",
    "for doi5 in dois5:\n",
    "    urls.append('http://journals.sagepub.com/doi/full-xml/10.1177/0956797609' + doi5)\"\"\"\n",
    "\n",
    "for doi in dois_2004:\n",
    "    urls_2004.append('http://journals.sagepub.com/doi/full-xml/10.1111/j.0956-7976.2004.' + doi + '.x')\n",
    "\n",
    "# record start time\n",
    "start_time = time.clock()\n",
    "\n",
    "with open('psychScience_2004.csv','w', encoding='utf-8') as csv_file:\n",
    "        fieldnames = ['doi', 'author', 'date', 'title', 'subtitle', 'text']\n",
    "        writer = csv.DictWriter(csv_file, fieldnames=fieldnames)\n",
    "        writer.writeheader()\n",
    "\n",
    "        # loop through url list\n",
    "        for url in urls_2004:\n",
    "            response = requests.get(url)\n",
    "            # check if has content\n",
    "            if response:\n",
    "                try:\n",
    "                    doi = url\n",
    "                    soup = BeautifulSoup(response.text, 'html.parser')\n",
    "                    # title\n",
    "                    title = soup.find('title-group').find('article-title').get_text()\n",
    "                    sub = soup.find('title-group').find('subtitle')\n",
    "                    sub_title = \"\"\n",
    "                    if sub:\n",
    "                        sub_title = sub.get_text()\n",
    "                    # author\n",
    "                    first = soup.find('contrib-group').findAll('given-names')\n",
    "                    last = soup.find('contrib-group').findAll('surname')\n",
    "                    name = [i.text + \" \" + j.text for i, j in zip(first, last)]\n",
    "                    # date\n",
    "                    month = soup.find('pub-date').find('month').get_text()\n",
    "                    year = soup.find('pub-date').find('year').get_text()\n",
    "                    date = year + \"/\" + format(int(month), '02d')\n",
    "                    texts = response.text\n",
    "                    writer.writerow({'doi': doi, 'author': \"; \".join(name), 'date': date, 'title': title , 'subtitle': sub_title, 'text': texts}) # , 'text': text\n",
    "                except:\n",
    "                    continue\n",
    "\n",
    "# record end time\n",
    "end_time = time.clock()\n",
    "minute_time = (end_time - start_time) / 60.0\n",
    "print(\"The execution time is\" + \" %s minutes.\" % minute_time)"
   ]
  },
  {
   "cell_type": "code",
   "execution_count": 3,
   "metadata": {},
   "outputs": [
    {
     "data": {
      "text/html": [
       "<div>\n",
       "<style scoped>\n",
       "    .dataframe tbody tr th:only-of-type {\n",
       "        vertical-align: middle;\n",
       "    }\n",
       "\n",
       "    .dataframe tbody tr th {\n",
       "        vertical-align: top;\n",
       "    }\n",
       "\n",
       "    .dataframe thead th {\n",
       "        text-align: right;\n",
       "    }\n",
       "</style>\n",
       "<table border=\"1\" class=\"dataframe\">\n",
       "  <thead>\n",
       "    <tr style=\"text-align: right;\">\n",
       "      <th></th>\n",
       "      <th>doi</th>\n",
       "      <th>author</th>\n",
       "      <th>date</th>\n",
       "      <th>title</th>\n",
       "      <th>subtitle</th>\n",
       "      <th>text</th>\n",
       "    </tr>\n",
       "  </thead>\n",
       "  <tbody>\n",
       "    <tr>\n",
       "      <th>0</th>\n",
       "      <td>http://journals.sagepub.com/doi/full-xml/10.11...</td>\n",
       "      <td>April Bleske-Rechek; David Lubinski; Camilla P...</td>\n",
       "      <td>2004/04</td>\n",
       "      <td>Meeting the Educational Needs of Special Popul...</td>\n",
       "      <td>Advanced Placement's Role in Developing Except...</td>\n",
       "      <td>&lt;?xml version=\"1.0\" encoding=\"UTF-8\"?&gt;&lt;!DOCTYP...</td>\n",
       "    </tr>\n",
       "    <tr>\n",
       "      <th>1</th>\n",
       "      <td>http://journals.sagepub.com/doi/full-xml/10.11...</td>\n",
       "      <td>John R. Anderson; Dan Bothell; Scott Douglass</td>\n",
       "      <td>2004/04</td>\n",
       "      <td>Eye Movements Do Not Reflect Retrieval Processes</td>\n",
       "      <td>Limits of the Eye-Mind Hypothesis</td>\n",
       "      <td>&lt;?xml version=\"1.0\" encoding=\"UTF-8\"?&gt;&lt;!DOCTYP...</td>\n",
       "    </tr>\n",
       "  </tbody>\n",
       "</table>\n",
       "</div>"
      ],
      "text/plain": [
       "                                                 doi  \\\n",
       "0  http://journals.sagepub.com/doi/full-xml/10.11...   \n",
       "1  http://journals.sagepub.com/doi/full-xml/10.11...   \n",
       "\n",
       "                                              author     date  \\\n",
       "0  April Bleske-Rechek; David Lubinski; Camilla P...  2004/04   \n",
       "1      John R. Anderson; Dan Bothell; Scott Douglass  2004/04   \n",
       "\n",
       "                                               title  \\\n",
       "0  Meeting the Educational Needs of Special Popul...   \n",
       "1   Eye Movements Do Not Reflect Retrieval Processes   \n",
       "\n",
       "                                            subtitle  \\\n",
       "0  Advanced Placement's Role in Developing Except...   \n",
       "1                  Limits of the Eye-Mind Hypothesis   \n",
       "\n",
       "                                                text  \n",
       "0  <?xml version=\"1.0\" encoding=\"UTF-8\"?><!DOCTYP...  \n",
       "1  <?xml version=\"1.0\" encoding=\"UTF-8\"?><!DOCTYP...  "
      ]
     },
     "execution_count": 3,
     "metadata": {},
     "output_type": "execute_result"
    }
   ],
   "source": [
    "df_temp = pd.read_csv('psychScience_2004.csv')\n",
    "df_temp"
   ]
  },
  {
   "cell_type": "code",
   "execution_count": 83,
   "metadata": {},
   "outputs": [
    {
     "ename": "NameError",
     "evalue": "name 'ped' is not defined",
     "output_type": "error",
     "traceback": [
      "\u001b[1;31m---------------------------------------------------------------------------\u001b[0m",
      "\u001b[1;31mNameError\u001b[0m                                 Traceback (most recent call last)",
      "\u001b[1;32m<ipython-input-83-55868b5fb74d>\u001b[0m in \u001b[0;36m<module>\u001b[1;34m\u001b[0m\n\u001b[1;32m----> 1\u001b[1;33m \u001b[0mped\u001b[0m\u001b[1;33m\u001b[0m\u001b[1;33m\u001b[0m\u001b[0m\n\u001b[0m",
      "\u001b[1;31mNameError\u001b[0m: name 'ped' is not defined"
     ]
    }
   ],
   "source": []
  },
  {
   "cell_type": "code",
   "execution_count": null,
   "metadata": {},
   "outputs": [],
   "source": []
  }
 ],
 "metadata": {
  "kernelspec": {
   "display_name": "Python 3",
   "language": "python",
   "name": "python3"
  },
  "language_info": {
   "codemirror_mode": {
    "name": "ipython",
    "version": 3
   },
   "file_extension": ".py",
   "mimetype": "text/x-python",
   "name": "python",
   "nbconvert_exporter": "python",
   "pygments_lexer": "ipython3",
   "version": "3.7.1"
  }
 },
 "nbformat": 4,
 "nbformat_minor": 2
}
