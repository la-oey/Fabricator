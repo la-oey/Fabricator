{
 "cells": [
  {
   "cell_type": "code",
   "execution_count": 3,
   "metadata": {},
   "outputs": [
    {
     "data": {
      "text/plain": [
       "['2017',\n",
       " '2016',\n",
       " '2015',\n",
       " '2014',\n",
       " '2013',\n",
       " '2012',\n",
       " '2011',\n",
       " '2010',\n",
       " '2009',\n",
       " '2008',\n",
       " '2007',\n",
       " '2006',\n",
       " '2005',\n",
       " '2004',\n",
       " '2003']"
      ]
     },
     "execution_count": 3,
     "metadata": {},
     "output_type": "execute_result"
    }
   ],
   "source": [
    "[f\"{i:04}\" for i in range(2003, 2018)][::-1]"
   ]
  },
  {
   "cell_type": "code",
   "execution_count": 30,
   "metadata": {},
   "outputs": [],
   "source": [
    "import urllib.request\n",
    "import requests\n",
    "from bs4 import BeautifulSoup\n",
    "import pandas as pd"
   ]
  },
  {
   "cell_type": "code",
   "execution_count": 141,
   "metadata": {},
   "outputs": [
    {
     "name": "stdout",
     "output_type": "stream",
     "text": [
      "Access-Control-Allow-Origin: *\n",
      "Access-Control-Allow-Headers: X-Requested-With, Accept, Accept-Encoding, Accept-Charset, Accept-Language, Accept-Ranges, Cache-Control\n",
      "Access-Control-Expose-Headers: Link\n",
      "Link: <http://dx.doi.org/10.1111/j.0956-7976.2004.00655.x>; rel=\"canonical\"\n",
      "Content-Type: application/vnd.crossref.unixsd+xml\n",
      "Content-Length: 15269\n",
      "Server: http-kit\n",
      "Date: Mon, 07 Oct 2019 08:20:02 GMT\n",
      "X-Rate-Limit-Limit: 50\n",
      "X-Rate-Limit-Interval: 1s\n",
      "Connection: close\n",
      "\n",
      "\n"
     ]
    }
   ],
   "source": [
    "opener = urllib.request.build_opener()\n",
    "opener.addheaders = [('Accept', 'application/vnd.crossref.unixsd+xml')]\n",
    "r = opener.open('https://doi.org/10.1111/j.0956-7976.2004.00655.x')\n",
    "print(r.info()) # ['Link']"
   ]
  },
  {
   "cell_type": "code",
   "execution_count": 142,
   "metadata": {},
   "outputs": [
    {
     "data": {
      "text/plain": [
       "'<http://dx.doi.org/10.1111/j.0956-7976.2004.00655.x>; rel=\"canonical\"'"
      ]
     },
     "execution_count": 142,
     "metadata": {},
     "output_type": "execute_result"
    }
   ],
   "source": [
    "r.info()['Link']"
   ]
  },
  {
   "cell_type": "code",
   "execution_count": 177,
   "metadata": {},
   "outputs": [
    {
     "data": {
      "text/plain": [
       "'<?xml version=\"1.0\" encoding=\"UTF-8\"?><!DOCTYPE article PUBLIC \"-//NLM//DTD JATS (Z39.96) Journal Archiving and Interchange DTD v1.1d1 20130915//EN\" \"JATS-archivearticle1.dtd\"><article article-type=\"research-article\" dtd-version=\"1.1d1\" xml:lang=\"en\" xmlns:mml=\"http://www.w3.org/1998/Math/MathML\" xmlns:xlink=\"http://www.w3.org/1999/xlink\"><front><journal-meta><journal-id journal-id-type=\"publisher-id\">PSSA</journal-id><journal-id journal-id-type=\"sage\">PSS</journal-id><journal-id journal-id-type=\"nlm-ta\">Psychol Sci</journal-id><!--===== Grouping journal title elements =====--><journal-title-group><journal-title>Psychological Science</journal-title></journal-title-group><issn pub-type=\"ppub\">0956-7976</issn><issn pub-type=\"epub\">1467-9280</issn><publisher><publisher-name>SAGE Publications</publisher-name><publisher-loc>Sage CA: Los Angeles, CA</publisher-loc></publisher></journal-meta><article-meta xmlns:xlink=\"http://www.w3.org/1999/xlink\"><article-id pub-id-type=\"doi\">10.1111/j.0956-7976.2004.00667.x</article-id><article-id pub-id-type=\"publisher-id\">10.1111_j.0956-7976.2004.00667.x</article-id><article-categories><subj-group subj-group-type=\"heading\"><subject>Research Reports</subject></subj-group></article-categories><title-group><article-title>Keeping It Short</article-title><subtitle>A Comparison of Methods for Brief Picture Presentation</subtitle></title-group><contrib-group><contrib contrib-type=\"author\" xlink:type=\"simple\"><string-name name-style=\"western\"><given-names>Stefan</given-names> <surname>Wiens</surname></string-name><xref ref-type=\"corresp\" rid=\"corresp1-j.0956-7976.2004.00667.x\"/></contrib><x>, </x><contrib contrib-type=\"author\" xlink:type=\"simple\"><string-name name-style=\"western\"><given-names>Peter</given-names> <surname>Fransson</surname></string-name></contrib><x>, </x><contrib contrib-type=\"author\" xlink:type=\"simple\"><string-name name-style=\"western\"><given-names>Thomas</given-names> <surname>Dietrich</surname></string-name></contrib><x>, </x><contrib contrib-type=\"author\" xlink:type=\"simple\"><string-name name-style=\"western\"><given-names>Peter</given-names> <surname>Lohmann</surname></string-name></contrib><x>, </x><contrib contrib-type=\"author\" xlink:type=\"simple\"><string-name name-style=\"western\"><given-names>Martin</given-names> <surname>Ingvar</surname></string-name></contrib><x>, </x><contrib contrib-type=\"author\" xlink:type=\"simple\"><string-name name-style=\"western\"><given-names>Öhman</given-names> <surname>Arne</surname></string-name></contrib><aff id=\"aff1-j.0956-7976.2004.00667.x\">Karolinska Institute, Stockholm, Sweden</aff></contrib-group><author-notes><corresp id=\"corresp1-j.0956-7976.2004.00667.x\">Stefan Wiens, Psychology Section, Department of Clinical Neuroscience, Karolinska Institute, KS, 171 76 Stockholm, Sweden; e-mail: <email xlink:href=\"stefan.wiens@cns.ki.se\" xlink:type=\"simple\">stefan.wiens@cns.ki.se</email>.</corresp></author-notes><pub-date pub-type=\"epub-ppub\"><month>4</month><year>2004</year></pub-date><volume>15</volume><issue>4</issue><fpage>282</fpage><lpage>285</lpage><permissions><copyright-statement>© 2004 Association for Psychological Science</copyright-statement><copyright-year>2004</copyright-year><copyright-holder content-type=\"society\">Association for Psychological Science</copyright-holder></permissions><self-uri content-type=\"pdf\" xlink:href=\"j.0956-7976.2004.00667.x.pdf\"/><abstract><p>Research has shown that backward masking is a powerful tool for studying unconscious mental processes. Whereas studies have traditionally presented stimuli using cathode-ray tube (CRT) monitors or mechanical shutters together with slide projectors, recent studies (mainly in functional magnetic resonance imaging, fMRI) have begun to use methods based on liquid crystal displays (LCDs) and thin-film transistor (TFT) technology. However, because of differences in technology, all methods may not be equally suited for masking. When methods were compared for their accuracy in presenting pictures at short durations, LCD and TFT presentations had poor accuracy, but shutter and CRT presentations had better accuracy. Because CRTs interfere with the imaging process in fMRI, we recommend the use of mechanical shutters. However, our results may not generally apply to all displays, so we advise researchers to validate the presentation parameters of their displays. The procedure described here may be useful for that purpose.</p></abstract><self-uri xlink:href=\"https://journals.sagepub.com/doi/abs/10.1111/j.0956-7976.2004.00667.x\"/>\\n</article-meta></front><body><p>Although most people take for granted that consciousness plays a mediating role in experience and behavior, researchers have had difficulties in designing critical experiments that allow one to draw definite conclusions about the relative role of conscious and unconscious processes. A technique that has been used successfully to study unconscious visual processes is backward masking (e.g., <xref ref-type=\"bibr\" rid=\"bibr7-j.0956-7976.2004.00667.x\">Öhman, 2002</xref>; <xref ref-type=\"bibr\" rid=\"bibr8-j.0956-7976.2004.00667.x\">Wiens &amp; Öhman, 2002</xref>). A picture can be masked if it is presented briefly and followed by another (masking) stimulus. If stimulus parameters are chosen carefully, people report that they can see consciously only the masking stimulus, but not the preceding target picture. Because masking allows one to reduce or even eliminate conscious processes in perception, it is a powerful technique for studying unconscious processes.</p><p>Although it is useful for research, masking is technically demanding because two pictures must be shown briefly, one immediately after the other. Traditionally, researchers have used two slide projectors and mechanical shutters for this purpose (<xref ref-type=\"bibr\" rid=\"bibr2-j.0956-7976.2004.00667.x\">Esteves &amp; Öhman, 1993</xref>), but the alternative of using a computer and a single monitor would make masking more available to researchers. However, although cathode-ray tube (CRT) monitors have been used (<xref ref-type=\"bibr\" rid=\"bibr5-j.0956-7976.2004.00667.x\">Mogg &amp; Bradley, 1999</xref>), they cannot be employed in functional magnetic resonance imaging (fMRI) studies because of interference with the imaging process. Therefore, a number of recent masking studies have used monitors or projectors based on liquid crystal displays (LCDs) and thin-film transistor (TFT) technology. However, this literature contains little evidence that parameters of picture presentations were adequately tested and also suggests that many researchers may not be fully aware of technical limitations of different methods for brief picture presentations. Therefore, the purpose of the present study was to compare the accuracy of common methods used to present pictures at short durations and to provide researchers with an overview of the technology and the limitations of different presentation methods commonly used in backward masking.</p><p>Examples of four methods were selected for this study: CRT monitor, TFT panel, LCD data projector, and mechanical shutter. In simple terms, the CRT illuminates a phosphor layer on the screen in a line-by-line fashion starting from the top corner of the screen. Thus, a picture is built up during a scan (refresh period), and its duration depends on phosphor persistence (<xref ref-type=\"bibr\" rid=\"bibr1-j.0956-7976.2004.00667.x\">Bridgeman, 1998</xref>). Whereas the CRT tends to be bulky, LCD and TFT panels are rather flat and consist of thin layers of liquid crystals (LCD) or transistors (TFT) that act as filters for the background illumination. Because a filter remains in steady state during picture presentation, a picture can be shown continuously and does not have to be updated on each scan. An LCD data projector is comparable to an LCD or TFT panel except that the background light source is stronger. Finally, a mechanical shutter is used by placing it in front of a light source; the shutter consists of a thin metal screen that can be opened and closed to control picture presentation.</p><p>We compared several presentation parameters of these methods: initial latency, rise time, observed duration, and relative maximum luminance. The results showed that displays based on LCD and TFT technology exhibited poor accuracy in presenting pictures at short durations, compared with a CRT monitor and a mechanical shutter.</p><sec id=\"section1-j.0956-7976.2004.00667.x\" sec-type=\"methods\"><title>METHOD</title><p>The CRT monitor was a Samsung SyncMaster 957p, the TFT panel was a Compaq TFT8030, and the LCD data projector was a Hitachi CP-S220. The mechanical shutter had a 25-mm diameter (both shutter and driver by Uniblitz, Rochester, New York) and was placed in front of the data projector.</p><p>The target image was a white bitmap picture filling the entire screen. The target was presented on an IBM ThinkPad A21e with a 4-MB Rage Mobility-M PCI graphic card using Presentation® software (Version 0.51, Neurobehavioral Systems, <ext-link ext-link-type=\"uri\" xlink:href=\"http://www.neurobs.com\" xlink:type=\"simple\">http://www.neurobs.com</ext-link>) under Windows 98. It was presented at a resolution of 800×600 pixels (16-bit colors) at 60 or 85 Hz. The monitors were connected via analog cable, and hardware-specific drivers were used for the TFT panel and CRT.</p><p>Because the CRT, TFT panel, and data projector (without shutter) were tested at refresh rates of 60 and 85 Hz, target durations could be manipulated in multiples of 16.7 and 11.8 ms, respectively. Selected target durations were 17, 33, 67, 100, 117, and 150 ms for 60 Hz and 12, 24, 47, 82, 106, 141, and 200 ms for 85 Hz. The shutter was tested at the same target durations and also at 8 ms. There were 100 trials at each target duration, and each trial lasted 500 ms. For the CRT, TFT panel, and projector (without shutter), the target image was presented on each trial, whereas for the shutter, the projector displayed the target continuously and the shutter manipulated target durations. On each trial, a marker pulse was sent to the parallel port simultaneously with picture presentation.</p><p>Luminance was measured with a flat Osram BPW 34 photodiode that had a light-sensitive area of 7 mm<sup>2</sup> and a short switching time (20 ns), and changed resistance proportional to changes in luminance. An MP100 data-acquisition unit together with AcqKnowledge 3.7.1 software (Biopac Systems, Goleta, California) was used to generate 10 V over the photodiode and to record luminance changes and the marker signal at a sampling frequency of 2 KHz. For the CRT and TFT panel, the photodiode was placed in the center of the monitor, and for the data projector (with and without shutter), it was placed in the middle of the display area at a distance of 1 m. Brightness was adjusted to avoid ceiling effects for the photodiode. All tests were performed in a dark room.</p></sec><sec id=\"section2-j.0956-7976.2004.00667.x\"><title>DATA ANALYSIS</title><p>For the TFT panel, data projector, and shutter, four parameters were derived from luminance data (as indexed by photodiode measurements) for each of the 100 trials at each target duration: initial latency, rise time, observed duration, and relative maximum luminance. To compute these parameters, we defined baseline luminance for each target duration as the mean and standard deviation of luminance between 300 and 400 ms after trial onset (when luminance had returned to baseline for all trials). Further, maximum luminance was defined as the mean and standard deviation of luminance between 75 and 175 ms at the 200-ms duration (when picture presentation was stable on all trials). Initial latency was computed as the interval (in milliseconds) between the marker signal and picture onset, defined as the point when luminance levels exceeded the mean baseline level plus 3 <italic>SD</italic>. Rise time was defined as the interval (in milliseconds) between picture onset and half brightness, when luminance reached 50% of maximum luminance. Observed duration was the interval (in milliseconds) between target onset and offset. Target offset was defined as the point when luminance dropped below baseline levels plus 3 <italic>SDs</italic>. Last, relative maximum luminance was the peak luminance level on a trial as a percentage of the maximum luminance levels. Analyses for the TFT panel were improved by smoothing the raw data with a moving-average filter of 10 sample points that eliminated a 200-Hz background variability in luminance from the internal light source.</p><p>Because picture presentation for the CRT monitor differed principally from that for the other methods, CRT data were analyzed separately. For individual combinations of target duration and refresh rate, similar presentation parameters as for the other methods were computed for each individual scan. Thus, at a target duration of 141 ms at 85 Hz (11.8-ms refresh period), parameters were computed for 12 (141/11.8) individual scans.</p></sec><sec id=\"section3-j.0956-7976.2004.00667.x\" sec-type=\"results\"><title>RESULTS</title><p><xref ref-type=\"fig\" rid=\"fig1-j.0956-7976.2004.00667.x\">Figure 1</xref> shows mean relative luminance curves at various target durations for the shutter, data projector, and TFT panel. Note that before being graphed, the data were corrected for trial differences in initial latency.<xref ref-type=\"fn\" rid=\"fn1-j.0956-7976.2004.00667.x\"><sup>1</sup></xref> For each target duration, individual trial onsets were adjusted to the minimum initial latency across all 100 trials. Thus, the individual luminance curves in <xref ref-type=\"fig\" rid=\"fig1-j.0956-7976.2004.00667.x\">Figure 1</xref> are not confounded by trial differences in initial latency. The projector and panel failed to present a target on some trials at the 12-ms target duration, so analyses in these cases were based on only 83 and 71 trials, respectively.</p><fig id=\"fig1-j.0956-7976.2004.00667.x\" position=\"float\"><label>Fig. 1.</label><caption><p>Mean relative luminance (percentage of maximum luminance) over time for the mechanical shutter (a), liquid crystal display (LCD) data projector (b), and thin-film transistor (TFT) panel (c) at target durations of 8 (only for shutter), 12, 17, 24, 33, 47, 67, 82, 100, 106, 117, 141, 150, and 200 ms. For the data projector and TFT panel, curves at the 12-ms target duration are based on only 83 and 71 trials, respectively. Note that before being graphed, the data were corrected for trial differences in initial latency.</p></caption><graphic position=\"float\" xlink:href=\"10.1111_j.0956-7976.2004.00667.x-fig1.tif\" xlink:type=\"simple\"/></fig><p>Initial latency was shorter and showed less variability across trials and target durations for the shutter than for the projector and panel; means (and <italic>SD</italic>s) were 4.3 ms (0.2), 14.6 ms (3.8), and 17.2 ms (4.8), respectively. The same was true for rise time; means (and <italic>SD</italic>s) were 1.6 ms (0.2), 6.1 ms (2.0), and 9.3 ms (0.7), respectively. In fact, because of the slow rise time for the projector and panel, pictures were not presented at full luminance levels for target durations shorter than 47 ms, whereas the shutter presented pictures at full luminance at all target durations, including only 8 ms.</p><p>All methods showed a consistent relation between desired and observed target duration averaged across trials (<italic>r</italic>&gt;.997). However, variability on individual trials was much smaller for the shutter than for the projector and panel; mean standard deviations were 0.4 ms, 5.2 ms, and 6.0 ms, respectively. The variability among trials is illustrated by the steplike offsets of mean luminance curves for the projector (see <xref ref-type=\"fig\" rid=\"fig1-j.0956-7976.2004.00667.x\">Fig. 1</xref>). The mean difference between observed and desired target duration was small for the shutter (<italic>M</italic>=3.7 ms), whereas it was somewhat larger for the projector (6.2 ms) and much larger for the TFT panel (49.2 ms).</p><p>As further illustrated in <xref ref-type=\"fig\" rid=\"fig1-j.0956-7976.2004.00667.x\">Figure 1</xref>, the shutter showed opening bounce; that is, the shutter blades bounced back from the rim while opening and thus closed slightly before staying open. (According to the manufacturer, bounce varies among shutters, and although small in size, it can occur during closing as well as opening.)</p><p><xref ref-type=\"fig\" rid=\"fig2-j.0956-7976.2004.00667.x\">Figure 2</xref> depicts mean luminance curves for the CRT monitor for two selected target durations. As illustrated, the shape of the luminance curves depended on number of scans and phosphor persistence (i.e., how long it took before luminance dropped to zero). Analyses of the luminance data showed that presentation parameters exhibited minimal variability for individual scans across trials and target durations (≤0.5 ms). However, overall luminance levels tended to be lower for the 85-Hz than the 60-Hz refresh rate (see <xref ref-type=\"fig\" rid=\"fig2-j.0956-7976.2004.00667.x\">Fig. 2</xref>), probably because there was less time for the beamer to illuminate the phosphor at the faster refresh rate.</p><fig id=\"fig2-j.0956-7976.2004.00667.x\" position=\"float\"><label>Fig. 2.</label><caption><p>Mean relative luminance (percentage of maximum luminance) over time for the cathode-ray tube (CRT) monitor at two arbitrary target durations.</p></caption><graphic position=\"float\" xlink:href=\"10.1111_j.0956-7976.2004.00667.x-fig2.tif\" xlink:type=\"simple\"/></fig></sec><sec id=\"section4-j.0956-7976.2004.00667.x\" sec-type=\"discussion\"><title>DISCUSSION</title><p>Both the LCD data projector and the TFT panel showed substantial variability among trials in all the presentation parameters. Also, with these methods, pictures were not shown in full luminance at short target durations (less than 47 ms); thus, differences in target duration were confounded by differences in luminance. Further, some pictures were not shown at all at the shortest duration (12 ms). These findings do not support the use of LCDs and TFT displays in studies with brief picture presentations.</p><p>In contrast, the mechanical shutter and CRT monitor showed only small variability among trials in all the presentation parameters. Although these findings support the use of either shutters or CRT monitors, several arguments favor shutters over CRTs. First, a CRT cannot be used in fMRI studies because of magnetic interference with the imaging process, whereas a shutter together with a projector can be placed outside of the scanner room. Second, because pictures can be shown continuously rather than in individual scans when a shutter is used, picture presentation is more ecologically valid for shutters than CRTs (<xref ref-type=\"bibr\" rid=\"bibr4-j.0956-7976.2004.00667.x\">Krantz, 2000</xref>). Third, unless the equipment allows one to change refresh rates during an experiment (e.g., from 60 to 85 Hz), picture durations for a CRT can be changed only in multiples of a single refresh rate (e.g., in steps of 16.7 ms at 60 Hz). In contrast, picture duration for a shutter can be adjusted in steps of milliseconds. Also, <xref ref-type=\"fig\" rid=\"fig2-j.0956-7976.2004.00667.x\">Figure 2</xref> suggests that even if it were possible to switch between refresh rates with a CRT, overall luminance levels may differ among different refresh rates. Fourth, synchronizing picture presentations with CRT scans (as in Presentation software) requires substantial programming effort. Because shutter control is much simpler, a recommended setup for backward masking is to place shutters in front of slide projectors (e.g., <xref ref-type=\"bibr\" rid=\"bibr3-j.0956-7976.2004.00667.x\">Katkin, Wiens, &amp; Öhman, 2001</xref>) or data projectors (as in this study) to control presentation of target and mask independently.</p><p>In short, the present data support the use of CRT monitors and mechanical shutters but not the use of LCD and TFT panels and projectors in studies that require brief picture presentations. Further, several arguments suggest that shutters may be better suited than CRTs for experiments on backward masking. However, because we could select only examples of displays for our study, the present conclusions may not be true for all displays. Also, LCD-TFT technology might improve to overcome apparent shortcomings. However, in a careful analysis of available tachistoscopes, <xref ref-type=\"bibr\" rid=\"bibr6-j.0956-7976.2004.00667.x\">Mollon and Polden (1978)</xref> found that presentation parameters were poorer than was assumed by researchers and claimed by manufacturers, and showed that many research findings could be artifacts due to confounding effects from the tachistoscopes. Therefore, to minimize, if not eliminate, the risk of confounding effects from the display, we recommend that researchers validate the presentation parameters of their equipment. The procedure described here may be useful for that purpose.</p></sec></body><back><fn-group><fn fn-type=\"other\" id=\"fn1-j.0956-7976.2004.00667.x\"><p><sup>1</sup>A table with all results is available upon request.</p></fn></fn-group><ack><title>Acknowledgments</title><p>The authors received financial support from the Bank of Sweden Tercentennial Foundation, Family Hedlund Foundation, Swedish Brain Foundation, Swedish Research Council (8246), and Karolinska Institute.</p></ack><ref-list><title>REFERENCES</title><ref id=\"bibr1-j.0956-7976.2004.00667.x\"><mixed-citation publication-type=\"journal\" xlink:type=\"simple\">\\n               <person-group person-group-type=\"author\"><string-name name-style=\"western\"><surname>Bridgeman</surname> <given-names>B.</given-names></string-name></person-group> (<year>1998</year>). <article-title>Durations of stimuli displayed on video display terminals: (<italic>n</italic>– 1)/<italic>f</italic>+ persistence</article-title>. <source>Psychological Science</source>, <volume>9</volume>, <fpage>232</fpage>–<lpage>233</lpage>.</mixed-citation></ref><ref id=\"bibr2-j.0956-7976.2004.00667.x\"><mixed-citation publication-type=\"journal\" xlink:type=\"simple\">\\n               <person-group person-group-type=\"author\"><string-name name-style=\"western\"><surname>Esteves</surname> <given-names>F.</given-names></string-name>, <string-name name-style=\"western\"><surname>Öhman</surname> <given-names>A.</given-names></string-name></person-group> (<year>1993</year>). <article-title>Masking the face: Recognition of emotional facial expressions as a function of the parameters of backward masking</article-title>. <source>Scandinavian Journal of Psychology</source>, <volume>34</volume>, <fpage>1</fpage>–<lpage>18</lpage>.</mixed-citation></ref><ref id=\"bibr3-j.0956-7976.2004.00667.x\"><mixed-citation publication-type=\"journal\" xlink:type=\"simple\">\\n               <person-group person-group-type=\"author\"><string-name name-style=\"western\"><surname>Katkin</surname> <given-names>E.S.</given-names></string-name>, <string-name name-style=\"western\"><surname>Wiens</surname> <given-names>S.</given-names></string-name>, <string-name name-style=\"western\"><surname>Öhman</surname> <given-names>A.</given-names></string-name></person-group> (<year>2001</year>). <article-title>Nonconscious fear conditioning, visceral perception, and the development of gut feelings</article-title>. <source>Psychological Science</source>, <volume>12</volume>, <fpage>366</fpage>–<lpage>370</lpage>.</mixed-citation></ref><ref id=\"bibr4-j.0956-7976.2004.00667.x\"><mixed-citation publication-type=\"journal\" xlink:type=\"simple\">\\n               <person-group person-group-type=\"author\"><string-name name-style=\"western\"><surname>Krantz</surname> <given-names>J.H.</given-names></string-name></person-group> (<year>2000</year>). <article-title>Tell me, what did you see? The stimulus on computers</article-title>. <source>Behavior Research Methods, Instruments, &amp; Computers</source>, <volume>32</volume>, <fpage>221</fpage>–<lpage>229</lpage>.</mixed-citation></ref><ref id=\"bibr5-j.0956-7976.2004.00667.x\"><mixed-citation publication-type=\"journal\" xlink:type=\"simple\">\\n               <person-group person-group-type=\"author\"><string-name name-style=\"western\"><surname>Mogg</surname> <given-names>K.</given-names></string-name>, <string-name name-style=\"western\"><surname>Bradley</surname> <given-names>B.P.</given-names></string-name></person-group> (<year>1999</year>). <article-title>Orienting of attention to threatening facial expressions presented under conditions of restricted awareness</article-title>. <source>Cognition and Emotion</source>, <volume>13</volume>, <fpage>713</fpage>–<lpage>740</lpage>.</mixed-citation></ref><ref id=\"bibr6-j.0956-7976.2004.00667.x\"><mixed-citation publication-type=\"journal\" xlink:type=\"simple\">\\n               <person-group person-group-type=\"author\"><string-name name-style=\"western\"><surname>Mollon</surname> <given-names>J.D.</given-names></string-name>, <string-name name-style=\"western\"><surname>Polden</surname> <given-names>P.G.</given-names></string-name></person-group> (<year>1978</year>). <article-title>On the time constants of tachistoscopes</article-title>. <source>Quarterly Journal of Experimental Psychology</source>, <volume>30</volume>, <fpage>555</fpage>–<lpage>568</lpage>.</mixed-citation></ref><ref id=\"bibr7-j.0956-7976.2004.00667.x\"><mixed-citation publication-type=\"journal\" xlink:type=\"simple\">\\n               <person-group person-group-type=\"author\"><string-name name-style=\"western\"><surname>Öhman</surname> <given-names>A.</given-names></string-name></person-group> (<year>2002</year>). <article-title>Automaticity and the amygdala: Nonconscious responses to emotional faces</article-title>. <source>Current Directions in Psychological Science</source>, <volume>11</volume>, <fpage>62</fpage>–<lpage>66</lpage>.</mixed-citation></ref><ref id=\"bibr8-j.0956-7976.2004.00667.x\"><mixed-citation publication-type=\"journal\" xlink:type=\"simple\">\\n               <person-group person-group-type=\"author\"><string-name name-style=\"western\"><surname>Wiens</surname> <given-names>S.</given-names></string-name>, <string-name name-style=\"western\"><surname>Öhman</surname> <given-names>A.</given-names></string-name></person-group> (<year>2002</year>). <article-title>Unawareness is more than a chance event: Comment on Lovibond and Shanks (2002)</article-title>. <source>Journal of Experimental Psychology: Animal Behavior Processes</source>, <volume>28</volume>, <fpage>27</fpage>–<lpage>31</lpage>.</mixed-citation></ref></ref-list></back></article>'"
      ]
     },
     "execution_count": 177,
     "metadata": {},
     "output_type": "execute_result"
    }
   ],
   "source": [
    "url = 'http://journals.sagepub.com/doi/full-xml/10.1111/j.0956-7976.2004.00667.x'\n",
    "response = requests.get(url)\n",
    "response.text"
   ]
  },
  {
   "cell_type": "code",
   "execution_count": 162,
   "metadata": {},
   "outputs": [
    {
     "ename": "IndexError",
     "evalue": "list index out of range",
     "output_type": "error",
     "traceback": [
      "\u001b[1;31m---------------------------------------------------------------------------\u001b[0m",
      "\u001b[1;31mIndexError\u001b[0m                                Traceback (most recent call last)",
      "\u001b[1;32m<ipython-input-162-91a66e99a26a>\u001b[0m in \u001b[0;36m<module>\u001b[1;34m\u001b[0m\n\u001b[0;32m      1\u001b[0m \u001b[1;32mimport\u001b[0m \u001b[0mre\u001b[0m\u001b[1;33m\u001b[0m\u001b[1;33m\u001b[0m\u001b[0m\n\u001b[0;32m      2\u001b[0m \u001b[0mtitle_group\u001b[0m \u001b[1;33m=\u001b[0m \u001b[0mre\u001b[0m\u001b[1;33m.\u001b[0m\u001b[0mfindall\u001b[0m\u001b[1;33m(\u001b[0m\u001b[1;34mr'<title-group>.+</title-group>'\u001b[0m\u001b[1;33m,\u001b[0m \u001b[0mresponse\u001b[0m\u001b[1;33m.\u001b[0m\u001b[0mtext\u001b[0m\u001b[1;33m)\u001b[0m\u001b[1;33m\u001b[0m\u001b[1;33m\u001b[0m\u001b[0m\n\u001b[1;32m----> 3\u001b[1;33m \u001b[0mtitle\u001b[0m \u001b[1;33m=\u001b[0m \u001b[0mre\u001b[0m\u001b[1;33m.\u001b[0m\u001b[0msearch\u001b[0m\u001b[1;33m(\u001b[0m\u001b[1;34m'<article-title>.+</article-title>'\u001b[0m\u001b[1;33m,\u001b[0m \u001b[0mtitle_group\u001b[0m\u001b[1;33m[\u001b[0m\u001b[1;36m0\u001b[0m\u001b[1;33m]\u001b[0m\u001b[1;33m)\u001b[0m\u001b[1;33m.\u001b[0m\u001b[0mgroup\u001b[0m\u001b[1;33m(\u001b[0m\u001b[1;36m0\u001b[0m\u001b[1;33m)\u001b[0m\u001b[1;33m[\u001b[0m\u001b[1;36m15\u001b[0m\u001b[1;33m:\u001b[0m\u001b[1;33m-\u001b[0m\u001b[1;36m16\u001b[0m\u001b[1;33m]\u001b[0m\u001b[1;33m\u001b[0m\u001b[1;33m\u001b[0m\u001b[0m\n\u001b[0m\u001b[0;32m      4\u001b[0m \u001b[0msub\u001b[0m \u001b[1;33m=\u001b[0m \u001b[0mre\u001b[0m\u001b[1;33m.\u001b[0m\u001b[0msearch\u001b[0m\u001b[1;33m(\u001b[0m\u001b[1;34m'<subtitle>.+</subtitle>'\u001b[0m\u001b[1;33m,\u001b[0m \u001b[0mtitle_group\u001b[0m\u001b[1;33m[\u001b[0m\u001b[1;36m0\u001b[0m\u001b[1;33m]\u001b[0m\u001b[1;33m)\u001b[0m\u001b[1;33m\u001b[0m\u001b[1;33m\u001b[0m\u001b[0m\n\u001b[0;32m      5\u001b[0m \u001b[0msubtitle\u001b[0m \u001b[1;33m=\u001b[0m \u001b[1;34m\"\"\u001b[0m\u001b[1;33m\u001b[0m\u001b[1;33m\u001b[0m\u001b[0m\n",
      "\u001b[1;31mIndexError\u001b[0m: list index out of range"
     ]
    }
   ],
   "source": [
    "import re\n",
    "title_group = re.findall(r'<title-group>.+</title-group>', response.text)\n",
    "title = re.search('<article-title>.+</article-title>', title_group[0]).group(0)[15:-16]\n",
    "sub = re.search('<subtitle>.+</subtitle>', title_group[0])\n",
    "subtitle = \"\"\n",
    "if sub:\n",
    "    sub_title = sub.group(0)[10:-11]\n",
    "print(title)"
   ]
  },
  {
   "cell_type": "code",
   "execution_count": 154,
   "metadata": {},
   "outputs": [
    {
     "data": {
      "text/plain": [
       "'rticle-title>Infant Attachment Security and the Timing of Puberty</article-title><subtitle>Testing an Evolutionary Hypothesis</subtitl'"
      ]
     },
     "execution_count": 154,
     "metadata": {},
     "output_type": "execute_result"
    }
   ],
   "source": [
    "title = titles[0][15:-16]\n",
    "title"
   ]
  },
  {
   "cell_type": "code",
   "execution_count": 127,
   "metadata": {},
   "outputs": [],
   "source": [
    "urls_2004 = []\n",
    "dois = [f\"{i:05}\" for i in range(655, 769)]\n",
    "for doi in dois:\n",
    "    urls_2004.append('http://journals.sagepub.com/doi/full-xml/10.1111/j.09567976.2004.' + doi)"
   ]
  },
  {
   "cell_type": "code",
   "execution_count": 178,
   "metadata": {},
   "outputs": [],
   "source": [
    "soup = BeautifulSoup(response.text, 'html.parser')\n",
    "title = soup.find('title-group').find('article-title').get_text()\n",
    "sub = soup.find('title-group').find('subtitle')\n",
    "sub_title = \"\"\n",
    "if sub:\n",
    "    sub_title = sub.get_text()"
   ]
  },
  {
   "cell_type": "code",
   "execution_count": 180,
   "metadata": {},
   "outputs": [
    {
     "data": {
      "text/plain": [
       "'Keeping It Short'"
      ]
     },
     "execution_count": 180,
     "metadata": {},
     "output_type": "execute_result"
    }
   ],
   "source": [
    "title"
   ]
  },
  {
   "cell_type": "code",
   "execution_count": null,
   "metadata": {},
   "outputs": [],
   "source": []
  }
 ],
 "metadata": {
  "kernelspec": {
   "display_name": "Python 3",
   "language": "python",
   "name": "python3"
  },
  "language_info": {
   "codemirror_mode": {
    "name": "ipython",
    "version": 3
   },
   "file_extension": ".py",
   "mimetype": "text/x-python",
   "name": "python",
   "nbconvert_exporter": "python",
   "pygments_lexer": "ipython3",
   "version": "3.7.1"
  }
 },
 "nbformat": 4,
 "nbformat_minor": 2
}
